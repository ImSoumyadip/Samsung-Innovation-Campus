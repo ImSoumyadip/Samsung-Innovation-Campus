{
  "nbformat": 4,
  "nbformat_minor": 0,
  "metadata": {
    "colab": {
      "provenance": []
    },
    "kernelspec": {
      "name": "python3",
      "display_name": "Python 3"
    },
    "language_info": {
      "name": "python"
    }
  },
  "cells": [
    {
      "cell_type": "code",
      "execution_count": null,
      "metadata": {
        "colab": {
          "base_uri": "https://localhost:8080/"
        },
        "id": "WAtqrgWAxOZO",
        "outputId": "1a98ceb8-c5e6-452e-e22a-725c6a19ab98"
      },
      "outputs": [
        {
          "output_type": "stream",
          "name": "stdout",
          "text": [
            "[[ 1  2  3  4  5]\n",
            " [ 6  7  8  9 10]\n",
            " [11 12 13 14 15]\n",
            " [16 17 18 19 20]\n",
            " [21 22 23 24 25]]\n"
          ]
        }
      ],
      "source": [
        "#1 NumPy program to create a 5x5 matrix with values 1,2,3,....,25\n",
        "\n",
        "import numpy as np\n",
        "\n",
        "# Create an array with values from 1 to 25\n",
        "arr = np.arange(1, 26)\n",
        "\n",
        "# Reshape the array into a 5x5 matrix\n",
        "matrix = arr.reshape(5,5)\n",
        "\n",
        "print(matrix)\n"
      ]
    },
    {
      "cell_type": "code",
      "source": [
        "#2 Generate a 4×4 identity matrix using NumPy\n",
        "\n",
        "import numpy as np\n",
        "\n",
        "identity_matrix = np.eye(4)\n",
        "print(identity_matrix)"
      ],
      "metadata": {
        "colab": {
          "base_uri": "https://localhost:8080/"
        },
        "id": "ceFpDFYD_lqI",
        "outputId": "8c980ac6-69cc-4c35-c1a3-8b36c456297c"
      },
      "execution_count": 1,
      "outputs": [
        {
          "output_type": "stream",
          "name": "stdout",
          "text": [
            "[[1. 0. 0. 0.]\n",
            " [0. 1. 0. 0.]\n",
            " [0. 0. 1. 0.]\n",
            " [0. 0. 0. 1.]]\n"
          ]
        }
      ]
    },
    {
      "cell_type": "code",
      "source": [
        "#3 Create a 1D array of numbers from 100 to 200 with step size 10.\n",
        "\n",
        "import numpy as np\n",
        "\n",
        "array = np.arange(100, 201, 10)\n",
        "print(array)\n"
      ],
      "metadata": {
        "colab": {
          "base_uri": "https://localhost:8080/"
        },
        "id": "PWZf3Jqu_3wh",
        "outputId": "b57545de-fc41-4d1e-aec3-aa82fdf3bb19"
      },
      "execution_count": 2,
      "outputs": [
        {
          "output_type": "stream",
          "name": "stdout",
          "text": [
            "[100 110 120 130 140 150 160 170 180 190 200]\n"
          ]
        }
      ]
    },
    {
      "cell_type": "code",
      "source": [
        "#4 Generate a random 3×3 matrix and find its determinant.\n",
        "\n",
        "import numpy as np\n",
        "\n",
        "# Generate a random 3x3 matrix\n",
        "matrix = np.random.rand(3, 3)\n",
        "print(\"Matrix:\")\n",
        "print(matrix)\n",
        "\n",
        "# Extract elements\n",
        "a, b, c = matrix[0]\n",
        "d, e, f = matrix[1]\n",
        "g, h, i = matrix[2]\n",
        "\n",
        "# Calculate determinant using the formula\n",
        "determinant = a*(e*i - f*h) - b*(d*i - f*g) + c*(d*h - e*g)\n",
        "print(\"\\nDeterminant:\")\n",
        "print(determinant)\n"
      ],
      "metadata": {
        "colab": {
          "base_uri": "https://localhost:8080/"
        },
        "id": "xlsM8GAyAA2s",
        "outputId": "10a0a010-512e-4a2a-db91-d2ec04e4d00e"
      },
      "execution_count": 6,
      "outputs": [
        {
          "output_type": "stream",
          "name": "stdout",
          "text": [
            "Matrix:\n",
            "[[0.62850301 0.2379201  0.060402  ]\n",
            " [0.36566452 0.60573146 0.87558683]\n",
            " [0.77453101 0.05941749 0.19561756]]\n",
            "\n",
            "Determinant:\n",
            "0.15908024409512297\n"
          ]
        }
      ]
    },
    {
      "cell_type": "code",
      "source": [
        "#5 Create a NumPy array of 10 random integers between 1 and 100.\n",
        "\n",
        "import numpy as np\n",
        "\n",
        "random_integers = np.random.randint(1, 101, size=10)\n",
        "print(random_integers)\n"
      ],
      "metadata": {
        "colab": {
          "base_uri": "https://localhost:8080/"
        },
        "id": "dLKj_CowCp7b",
        "outputId": "87e778ca-0bf6-4a01-f6b7-f9f32659aaf9"
      },
      "execution_count": 7,
      "outputs": [
        {
          "output_type": "stream",
          "name": "stdout",
          "text": [
            "[13 85 79 52 90 30 59  4 52 70]\n"
          ]
        }
      ]
    },
    {
      "cell_type": "code",
      "source": [
        "#6 Write a program to reshape a 1D array of size 12 into a 3×4 matrix.\n",
        "\n",
        "import numpy as np\n",
        "\n",
        "# Create a 1D array of size 12\n",
        "array_1d = np.arange(12)\n",
        "print(\"Original 1D array:\")\n",
        "print(array_1d)\n",
        "\n",
        "# Reshape into a 3x4 matrix\n",
        "matrix_3x4 = array_1d.reshape(3, 4)\n",
        "print(\"\\nReshaped 3x4 matrix:\")\n",
        "print(matrix_3x4)\n"
      ],
      "metadata": {
        "colab": {
          "base_uri": "https://localhost:8080/"
        },
        "id": "tXH1rP6yC-XP",
        "outputId": "18d4611f-b8cd-4a28-aff8-aac3a2e69256"
      },
      "execution_count": 8,
      "outputs": [
        {
          "output_type": "stream",
          "name": "stdout",
          "text": [
            "Original 1D array:\n",
            "[ 0  1  2  3  4  5  6  7  8  9 10 11]\n",
            "\n",
            "Reshaped 3x4 matrix:\n",
            "[[ 0  1  2  3]\n",
            " [ 4  5  6  7]\n",
            " [ 8  9 10 11]]\n"
          ]
        }
      ]
    },
    {
      "cell_type": "code",
      "source": [
        "# Create two 3×3 matrices and perform matrix multiplication.\n",
        "\n",
        "import numpy as np\n",
        "\n",
        "# Create two 3x3 matrices\n",
        "matrix1 = np.array([[1, 2, 3],\n",
        "                    [4, 5, 6],\n",
        "                    [7, 8, 9]])\n",
        "\n",
        "matrix2 = np.array([[9, 8, 7],\n",
        "                    [6, 5, 4],\n",
        "                    [3, 2, 1]])\n",
        "\n",
        "print(\"Matrix 1:\")\n",
        "print(matrix1)\n",
        "\n",
        "print(\"\\nMatrix 2:\")\n",
        "print(matrix2)\n",
        "\n",
        "# Perform matrix multiplication\n",
        "result = np.dot(matrix1, matrix2)\n",
        "\n",
        "print(\"\\nResult of matrix multiplication:\")\n",
        "print(result)\n"
      ],
      "metadata": {
        "colab": {
          "base_uri": "https://localhost:8080/"
        },
        "id": "icku94phDOj3",
        "outputId": "46148de2-83a8-400d-afdd-825f0e697789"
      },
      "execution_count": 9,
      "outputs": [
        {
          "output_type": "stream",
          "name": "stdout",
          "text": [
            "Matrix 1:\n",
            "[[1 2 3]\n",
            " [4 5 6]\n",
            " [7 8 9]]\n",
            "\n",
            "Matrix 2:\n",
            "[[9 8 7]\n",
            " [6 5 4]\n",
            " [3 2 1]]\n",
            "\n",
            "Result of matrix multiplication:\n",
            "[[ 30  24  18]\n",
            " [ 84  69  54]\n",
            " [138 114  90]]\n"
          ]
        }
      ]
    },
    {
      "cell_type": "code",
      "source": [
        "# Find eigenvalues and eigenvectors of a given 2×2 matrix using NumPy.\n",
        "\n",
        "import numpy as np\n",
        "A = np.array([[4, 2],   # first row\n",
        "              [1, 3]])  # second row\n",
        "eigenvalues, eigenvectors = np.linalg.eig(A)\n",
        "print(\"Eigenvalues:\")\n",
        "for val in eigenvalues:\n",
        "    print(val)\n",
        "print(\"\\nEigenvectors:\")\n",
        "for i in range(len(eigenvalues)):\n",
        "    print(\"For eigenvalue:\", eigenvalues[i])\n",
        "    print(\"Eigenvector:\", eigenvectors[:, i])\n"
      ],
      "metadata": {
        "colab": {
          "base_uri": "https://localhost:8080/"
        },
        "id": "VjD-aEtGDnIa",
        "outputId": "ac3cef02-55fb-48d7-8dbf-85f55ade6d31"
      },
      "execution_count": 13,
      "outputs": [
        {
          "output_type": "stream",
          "name": "stdout",
          "text": [
            "Eigenvalues:\n",
            "5.0\n",
            "2.0\n",
            "\n",
            "Eigenvectors:\n",
            "For eigenvalue: 5.0\n",
            "Eigenvector: [0.89442719 0.4472136 ]\n",
            "For eigenvalue: 2.0\n",
            "Eigenvector: [-0.70710678  0.70710678]\n"
          ]
        }
      ]
    },
    {
      "cell_type": "code",
      "source": [
        "#Create a 5×5 matrix with random values and extract its diagonal elements.\n",
        "\n",
        "import numpy as np\n",
        "A = np.random.randint(1, 100, size=(5, 5))\n",
        "diagonal = []\n",
        "for i in range(A.shape[0]):\n",
        "    diagonal.append(int(A[i][i]))\n",
        "print(\"5x5 Matrix:\")\n",
        "print(A)\n",
        "\n",
        "print(\"\\nDiagonal elements:\")\n",
        "print(diagonal)\n"
      ],
      "metadata": {
        "colab": {
          "base_uri": "https://localhost:8080/"
        },
        "id": "lJigFkkPFuUf",
        "outputId": "b31642d8-abc6-4dab-e052-7ee753d01373"
      },
      "execution_count": 18,
      "outputs": [
        {
          "output_type": "stream",
          "name": "stdout",
          "text": [
            "5x5 Matrix:\n",
            "[[ 3 98 63 42 37]\n",
            " [18  6 59 99  4]\n",
            " [41 80 73 34 46]\n",
            " [ 4 25 76 22 58]\n",
            " [19 12 62 84  1]]\n",
            "\n",
            "Diagonal elements:\n",
            "[3, 6, 73, 22, 1]\n"
          ]
        }
      ]
    },
    {
      "cell_type": "code",
      "source": [
        "# Generate a 1D array and normalize it (scale values between 0 and 1).\n",
        "\n",
        "import numpy as np\n",
        "arr = np.random.randint(1, 100, size=10)\n",
        "normalized = (arr - arr.min()) / (arr.max() - arr.min())\n",
        "print(\"Original array:\")\n",
        "print(arr)\n",
        "print(\"\\nNormalized array (0 to 1):\")\n",
        "print(normalized)\n"
      ],
      "metadata": {
        "colab": {
          "base_uri": "https://localhost:8080/"
        },
        "id": "FNAZ21mQG9mJ",
        "outputId": "31ce853b-9819-435d-cbaa-443cd6f1d2d6"
      },
      "execution_count": 19,
      "outputs": [
        {
          "output_type": "stream",
          "name": "stdout",
          "text": [
            "Original array:\n",
            "[54  9 31 76 76 21 91 10 81 87]\n",
            "\n",
            "Normalized array (0 to 1):\n",
            "[0.54878049 0.         0.26829268 0.81707317 0.81707317 0.14634146\n",
            " 1.         0.01219512 0.87804878 0.95121951]\n"
          ]
        }
      ]
    },
    {
      "cell_type": "code",
      "source": [
        "# Write a program to sort a NumPy array by row and column.\n",
        "\n",
        "import numpy as np\n",
        "\n",
        "# Create a 2D array\n",
        "A = np.random.randint(1, 100, size=(4, 4))\n",
        "\n",
        "print(\"Original Matrix:\")\n",
        "print(A)\n",
        "\n",
        "# Row-wise sorting\n",
        "row_sorted = []\n",
        "for row in A:\n",
        "    row_sorted.append(sorted(row))\n",
        "row_sorted = np.array(row_sorted)\n",
        "\n",
        "# Column-wise sorting\n",
        "col_sorted = []\n",
        "for j in range(A.shape[1]):\n",
        "    column = A[:, j]\n",
        "    sorted_col = sorted(column)\n",
        "    col_sorted.append(sorted_col)\n",
        "col_sorted = np.array(col_sorted).T\n",
        "\n",
        "print(\"\\nRow-wise Sorted Matrix:\")\n",
        "print(row_sorted)\n",
        "\n",
        "print(\"\\nColumn-wise Sorted Matrix:\")\n",
        "print(col_sorted)\n"
      ],
      "metadata": {
        "colab": {
          "base_uri": "https://localhost:8080/"
        },
        "id": "4SNcFqtLHgEE",
        "outputId": "4d26919b-5cf1-4f50-d9d9-1193f7e52ada"
      },
      "execution_count": 20,
      "outputs": [
        {
          "output_type": "stream",
          "name": "stdout",
          "text": [
            "Original Matrix:\n",
            "[[76  9 82 25]\n",
            " [69 55 16 14]\n",
            " [94 26 53 39]\n",
            " [93 80 40 90]]\n",
            "\n",
            "Row-wise Sorted Matrix:\n",
            "[[ 9 25 76 82]\n",
            " [14 16 55 69]\n",
            " [26 39 53 94]\n",
            " [40 80 90 93]]\n",
            "\n",
            "Column-wise Sorted Matrix:\n",
            "[[69  9 16 14]\n",
            " [76 26 40 25]\n",
            " [93 55 53 39]\n",
            " [94 80 82 90]]\n"
          ]
        }
      ]
    },
    {
      "cell_type": "code",
      "source": [
        "# Find the indices of maximum and minimum values in a NumPy array.\n",
        "\n",
        "import numpy as np\n",
        "arr = np.random.randint(1, 100, size=10)\n",
        "print(\"Array:\", arr)\n",
        "# Assuming that first element is min and max\n",
        "min_val = arr[0]\n",
        "max_val = arr[0]\n",
        "min_index = 0\n",
        "max_index = 0\n",
        "for i in range(len(arr)):\n",
        "    if arr[i] < min_val:\n",
        "        min_val = arr[i]\n",
        "        min_index = i\n",
        "    if arr[i] > max_val:\n",
        "        max_val = arr[i]\n",
        "        max_index = i\n",
        "print(\"\\nMinimum value:\", min_val, \"at index\", min_index)\n",
        "print(\"Maximum value:\", max_val, \"at index\", max_index)\n"
      ],
      "metadata": {
        "colab": {
          "base_uri": "https://localhost:8080/"
        },
        "id": "_6E-ekIvIGVw",
        "outputId": "341a26ab-ea90-4d86-bf3b-39a6ee610c8d"
      },
      "execution_count": 21,
      "outputs": [
        {
          "output_type": "stream",
          "name": "stdout",
          "text": [
            "Array: [13 72 94 71 49 24 97 66 34 47]\n",
            "\n",
            "Minimum value: 13 at index 0\n",
            "Maximum value: 97 at index 6\n"
          ]
        }
      ]
    },
    {
      "cell_type": "code",
      "source": [
        "# Create a 2D array and flatten it using ravel() and flatten()\n",
        "\n",
        "import numpy as np\n",
        "A = np.array([[1, 2, 3],\n",
        "              [4, 5, 6],\n",
        "              [7, 8, 9]])\n",
        "\n",
        "print(\"Original 2D Array:\")\n",
        "print(A)\n",
        "ravel_array = A.ravel()\n",
        "print(\"\\nFlattened with ravel():\")\n",
        "print(ravel_array)\n",
        "flatten_array = A.flatten()\n",
        "print(\"\\nFlattened with flatten():\")\n",
        "print(flatten_array)\n"
      ],
      "metadata": {
        "colab": {
          "base_uri": "https://localhost:8080/"
        },
        "id": "2teCII7EIuqE",
        "outputId": "dcf46f16-6dac-4a74-ef47-e917346a195b"
      },
      "execution_count": 23,
      "outputs": [
        {
          "output_type": "stream",
          "name": "stdout",
          "text": [
            "Original 2D Array:\n",
            "[[1 2 3]\n",
            " [4 5 6]\n",
            " [7 8 9]]\n",
            "\n",
            "Flattened with ravel():\n",
            "[1 2 3 4 5 6 7 8 9]\n",
            "\n",
            "Flattened with flatten():\n",
            "[1 2 3 4 5 6 7 8 9]\n"
          ]
        }
      ]
    },
    {
      "cell_type": "code",
      "source": [
        "# Create a 3×3 matrix and compute its inverse using NumPy.\n",
        "\n",
        "import numpy as np\n",
        "\n",
        "A = np.array([[2, 1, 3],\n",
        "              [1, 0, 2],\n",
        "              [4, 1, 8]])\n",
        "\n",
        "print(\"Original Matrix:\")\n",
        "print(A)\n",
        "\n",
        "det = np.linalg.det(A)\n",
        "print(\"\\nDeterminant of A:\", det)\n",
        "\n",
        "if det == 0:\n",
        "    print(\"Matrix is singular, no inverse exists.\")\n",
        "else:\n",
        "    cofactor_matrix = np.zeros((3, 3))\n",
        "    for i in range(3):\n",
        "        for j in range(3):\n",
        "            # Minor: delete row i and column j\n",
        "            minor = np.delete(np.delete(A, i, axis=0), j, axis=1)\n",
        "            cofactor = ((-1) ** (i + j)) * np.linalg.det(minor)\n",
        "            cofactor_matrix[i][j] = cofactor\n",
        "\n",
        "    print(\"\\nCofactor Matrix:\")\n",
        "    print(cofactor_matrix)\n",
        "    adjoint = cofactor_matrix.T\n",
        "    print(\"\\nAdjoint (Transpose of Cofactor Matrix):\")\n",
        "    print(adjoint)\n",
        "    inverse = adjoint / det\n",
        "    print(\"\\nInverse Matrix:\")\n",
        "    print(inverse)\n",
        "    identity = np.dot(A, inverse)\n",
        "\n"
      ],
      "metadata": {
        "colab": {
          "base_uri": "https://localhost:8080/"
        },
        "id": "nQV9CPFHI-cA",
        "outputId": "173b25ae-95a1-4f35-fdd5-57be508be123"
      },
      "execution_count": 25,
      "outputs": [
        {
          "output_type": "stream",
          "name": "stdout",
          "text": [
            "Original Matrix:\n",
            "[[2 1 3]\n",
            " [1 0 2]\n",
            " [4 1 8]]\n",
            "\n",
            "Determinant of A: -1.0\n",
            "\n",
            "Cofactor Matrix:\n",
            "[[-2. -0.  1.]\n",
            " [-5.  4.  2.]\n",
            " [ 2. -1. -1.]]\n",
            "\n",
            "Adjoint (Transpose of Cofactor Matrix):\n",
            "[[-2. -5.  2.]\n",
            " [-0.  4. -1.]\n",
            " [ 1.  2. -1.]]\n",
            "\n",
            "Inverse Matrix:\n",
            "[[ 2.  5. -2.]\n",
            " [ 0. -4.  1.]\n",
            " [-1. -2.  1.]]\n"
          ]
        }
      ]
    },
    {
      "cell_type": "code",
      "source": [
        "# Write a NumPy program to generate a random permutation of numbers 1 to 10.\n",
        "\n",
        "import random\n",
        "\n",
        "# Step 1: Create a list of numbers 1 to 10\n",
        "numbers = list(range(1, 11))\n",
        "\n",
        "# Step 2: Shuffle the list using logic\n",
        "permutation = []\n",
        "while numbers:                # repeat until the list is empty\n",
        "    index = random.randint(0, len(numbers) - 1)  # pick a random index\n",
        "    permutation.append(numbers.pop(index))       # remove and add to permutation\n",
        "\n",
        "# Step 3: Print the result\n",
        "print(\"Random permutation of 1 to 10:\")\n",
        "print(permutation)\n"
      ],
      "metadata": {
        "colab": {
          "base_uri": "https://localhost:8080/"
        },
        "id": "qQs7TKeWJnyp",
        "outputId": "44ddd0b3-b061-4986-937b-6e2b3c465d95"
      },
      "execution_count": 26,
      "outputs": [
        {
          "output_type": "stream",
          "name": "stdout",
          "text": [
            "Random permutation of 1 to 10:\n",
            "[6, 5, 8, 9, 1, 2, 7, 4, 3, 10]\n"
          ]
        }
      ]
    },
    {
      "cell_type": "code",
      "source": [
        "# Create a NumPy array with values from 0 to 20 and replace all even numbers with -1.\n",
        "\n",
        "import numpy as np\n",
        "arr = np.arange(21)\n",
        "print(\"Original array:\")\n",
        "print(arr)\n",
        "arr[arr % 2 == 0] = -1\n",
        "print(\"\\nArray after replacing even numbers with -1:\")\n",
        "print(arr)\n"
      ],
      "metadata": {
        "colab": {
          "base_uri": "https://localhost:8080/"
        },
        "id": "_6uUeNXxJ7aB",
        "outputId": "a24cbc0d-dc53-47e8-a097-8052e6a22d6b"
      },
      "execution_count": 28,
      "outputs": [
        {
          "output_type": "stream",
          "name": "stdout",
          "text": [
            "Original array:\n",
            "[ 0  1  2  3  4  5  6  7  8  9 10 11 12 13 14 15 16 17 18 19 20]\n",
            "\n",
            "Array after replacing even numbers with -1:\n",
            "[-1  1 -1  3 -1  5 -1  7 -1  9 -1 11 -1 13 -1 15 -1 17 -1 19 -1]\n"
          ]
        }
      ]
    },
    {
      "cell_type": "code",
      "source": [
        "# Write a program to compute the dot product of two arrays.\n",
        "\n",
        "import numpy as np\n",
        "A = np.array([1, 2, 3])\n",
        "B = np.array([4, 5, 6])\n",
        "print(\"Array A:\", A)\n",
        "print(\"Array B:\", B)\n",
        "dot_product = np.dot(A, B)\n",
        "\n",
        "print(\"\\nDot product of A and B:\", dot_product)\n"
      ],
      "metadata": {
        "colab": {
          "base_uri": "https://localhost:8080/"
        },
        "id": "1u_X0VtsKSKt",
        "outputId": "d2541e26-4c86-4e72-99ea-319c8095ed91"
      },
      "execution_count": 30,
      "outputs": [
        {
          "output_type": "stream",
          "name": "stdout",
          "text": [
            "Array A: [1 2 3]\n",
            "Array B: [4 5 6]\n",
            "\n",
            "Dot product of A and B: 32\n"
          ]
        }
      ]
    },
    {
      "cell_type": "code",
      "source": [
        "import numpy as np\n",
        "\n",
        "A = np.random.randint(1, 10, size=(5, 5))\n",
        "print(\"Matrix:\\n\", A)\n",
        "\n",
        "# Trace = sum of diagonal elements\n",
        "trace = np.trace(A)\n",
        "print(\"\\nTrace:\", trace)\n"
      ],
      "metadata": {
        "colab": {
          "base_uri": "https://localhost:8080/"
        },
        "id": "PDmwzMhOLIH2",
        "outputId": "4e951a6b-7d04-43bb-8429-90ff6a378a47"
      },
      "execution_count": 31,
      "outputs": [
        {
          "output_type": "stream",
          "name": "stdout",
          "text": [
            "Matrix:\n",
            " [[9 4 1 2 2]\n",
            " [8 7 5 1 1]\n",
            " [5 7 7 6 1]\n",
            " [5 3 5 5 8]\n",
            " [2 5 1 9 8]]\n",
            "\n",
            "Trace: 36\n"
          ]
        }
      ]
    },
    {
      "cell_type": "code",
      "source": [
        "arr = np.arange(9)  # example 1D array\n",
        "split_arr = np.array_split(arr, 3)\n",
        "print(\"\\nSplit array:\", split_arr)\n"
      ],
      "metadata": {
        "colab": {
          "base_uri": "https://localhost:8080/"
        },
        "id": "fXv21kTCQnI3",
        "outputId": "c813f111-0658-43dd-ca59-efc7802e2a38"
      },
      "execution_count": 32,
      "outputs": [
        {
          "output_type": "stream",
          "name": "stdout",
          "text": [
            "\n",
            "Split array: [array([0, 1, 2]), array([3, 4, 5]), array([6, 7, 8])]\n"
          ]
        }
      ]
    },
    {
      "cell_type": "code",
      "source": [
        "arr3d = np.random.randint(1, 10, size=(3,3,3))\n",
        "print(\"\\n3D Array:\\n\", arr3d)\n",
        "\n",
        "mean_axis0 = np.mean(arr3d, axis=0)\n",
        "print(\"\\nMean across axis 0:\\n\", mean_axis0)\n"
      ],
      "metadata": {
        "colab": {
          "base_uri": "https://localhost:8080/"
        },
        "id": "2bWowpOBQpxs",
        "outputId": "aee02346-17ed-4f8d-9c17-7a8538ac88e9"
      },
      "execution_count": 33,
      "outputs": [
        {
          "output_type": "stream",
          "name": "stdout",
          "text": [
            "\n",
            "3D Array:\n",
            " [[[2 2 2]\n",
            "  [3 5 6]\n",
            "  [6 5 8]]\n",
            "\n",
            " [[2 4 8]\n",
            "  [5 1 6]\n",
            "  [7 1 9]]\n",
            "\n",
            " [[6 1 9]\n",
            "  [8 4 8]\n",
            "  [6 3 3]]]\n",
            "\n",
            "Mean across axis 0:\n",
            " [[3.33333333 2.33333333 6.33333333]\n",
            " [5.33333333 3.33333333 6.66666667]\n",
            " [6.33333333 3.         6.66666667]]\n"
          ]
        }
      ]
    },
    {
      "cell_type": "code",
      "source": [
        "arr = np.array([1, 2, 3, 4])\n",
        "cumsum = np.cumsum(arr)\n",
        "print(\"\\nCumulative sum:\", cumsum)\n"
      ],
      "metadata": {
        "colab": {
          "base_uri": "https://localhost:8080/"
        },
        "id": "slg2VIQ5QuNc",
        "outputId": "7530e1cf-7fa9-49c6-e44b-06af5217b491"
      },
      "execution_count": 34,
      "outputs": [
        {
          "output_type": "stream",
          "name": "stdout",
          "text": [
            "\n",
            "Cumulative sum: [ 1  3  6 10]\n"
          ]
        }
      ]
    },
    {
      "cell_type": "code",
      "source": [
        "A = np.random.randint(1, 10, size=(4,4))\n",
        "print(\"\\nMatrix:\\n\", A)\n",
        "\n",
        "upper_tri = np.triu(A)\n",
        "print(\"\\nUpper triangular:\\n\", upper_tri)\n"
      ],
      "metadata": {
        "colab": {
          "base_uri": "https://localhost:8080/"
        },
        "id": "Lk6TmxjsRSXj",
        "outputId": "a26aa33a-d1de-40ed-edf2-2051de02a852"
      },
      "execution_count": 35,
      "outputs": [
        {
          "output_type": "stream",
          "name": "stdout",
          "text": [
            "\n",
            "Matrix:\n",
            " [[9 3 4 8]\n",
            " [5 9 8 4]\n",
            " [5 3 4 3]\n",
            " [8 3 8 5]]\n",
            "\n",
            "Upper triangular:\n",
            " [[9 3 4 8]\n",
            " [0 9 8 4]\n",
            " [0 0 4 3]\n",
            " [0 0 0 5]]\n"
          ]
        }
      ]
    },
    {
      "cell_type": "code",
      "source": [
        "checkerboard = np.zeros((6,6), dtype=int)\n",
        "checkerboard[1::2, ::2] = 1\n",
        "checkerboard[::2, 1::2] = 1\n",
        "print(\"\\nCheckerboard pattern:\\n\", checkerboard)\n"
      ],
      "metadata": {
        "colab": {
          "base_uri": "https://localhost:8080/"
        },
        "id": "aaU1We9ERUNC",
        "outputId": "48600d18-7ba7-4833-b8d7-fa444e1990b3"
      },
      "execution_count": 36,
      "outputs": [
        {
          "output_type": "stream",
          "name": "stdout",
          "text": [
            "\n",
            "Checkerboard pattern:\n",
            " [[0 1 0 1 0 1]\n",
            " [1 0 1 0 1 0]\n",
            " [0 1 0 1 0 1]\n",
            " [1 0 1 0 1 0]\n",
            " [0 1 0 1 0 1]\n",
            " [1 0 1 0 1 0]]\n"
          ]
        }
      ]
    },
    {
      "cell_type": "code",
      "source": [
        "A = np.random.randint(1, 10, size=(3,3))\n",
        "sqrt_A = np.sqrt(A)\n",
        "print(\"\\nMatrix:\\n\", A)\n",
        "print(\"\\nElement-wise sqrt:\\n\", sqrt_A)\n"
      ],
      "metadata": {
        "colab": {
          "base_uri": "https://localhost:8080/"
        },
        "id": "F8K7fNRkRZlE",
        "outputId": "6d890918-419a-45da-ecc2-951b9be59ee7"
      },
      "execution_count": 37,
      "outputs": [
        {
          "output_type": "stream",
          "name": "stdout",
          "text": [
            "\n",
            "Matrix:\n",
            " [[1 9 8]\n",
            " [6 2 1]\n",
            " [2 1 9]]\n",
            "\n",
            "Element-wise sqrt:\n",
            " [[1.         3.         2.82842712]\n",
            " [2.44948974 1.41421356 1.        ]\n",
            " [1.41421356 1.         3.        ]]\n"
          ]
        }
      ]
    },
    {
      "cell_type": "code",
      "source": [
        "arr = np.arange(20)\n",
        "reversed_arr = np.flip(arr)\n",
        "print(\"\\nReversed array:\\n\", reversed_arr)\n"
      ],
      "metadata": {
        "colab": {
          "base_uri": "https://localhost:8080/"
        },
        "id": "wXjj5TZxRaxb",
        "outputId": "38e17c62-c5ee-4c85-946e-5bb945704765"
      },
      "execution_count": 38,
      "outputs": [
        {
          "output_type": "stream",
          "name": "stdout",
          "text": [
            "\n",
            "Reversed array:\n",
            " [19 18 17 16 15 14 13 12 11 10  9  8  7  6  5  4  3  2  1  0]\n"
          ]
        }
      ]
    },
    {
      "cell_type": "code",
      "source": [
        "A = np.random.randint(1,10,(2,3))\n",
        "B = np.random.randint(1,10,(2,3))\n",
        "\n",
        "vertical = np.vstack((A,B))\n",
        "horizontal = np.hstack((A,B))\n",
        "\n",
        "print(\"\\nVertical merge:\\n\", vertical)\n",
        "print(\"\\nHorizontal merge:\\n\", horizontal)\n"
      ],
      "metadata": {
        "colab": {
          "base_uri": "https://localhost:8080/"
        },
        "id": "7ajxsGEURfc7",
        "outputId": "4d2bd28a-8786-4e2f-beff-986c2c0e8781"
      },
      "execution_count": 39,
      "outputs": [
        {
          "output_type": "stream",
          "name": "stdout",
          "text": [
            "\n",
            "Vertical merge:\n",
            " [[9 8 2]\n",
            " [3 6 5]\n",
            " [6 8 3]\n",
            " [8 4 6]]\n",
            "\n",
            "Horizontal merge:\n",
            " [[9 8 2 6 8 3]\n",
            " [3 6 5 8 4 6]]\n"
          ]
        }
      ]
    },
    {
      "cell_type": "code",
      "source": [
        "A = np.random.randint(1,10,(3,3))\n",
        "row_sum = np.sum(A, axis=1)\n",
        "col_sum = np.sum(A, axis=0)\n",
        "\n",
        "print(\"\\nMatrix:\\n\", A)\n",
        "print(\"\\nRow-wise sum:\", row_sum)\n",
        "print(\"Column-wise sum:\", col_sum)\n"
      ],
      "metadata": {
        "colab": {
          "base_uri": "https://localhost:8080/"
        },
        "id": "3ZdC32U2RhAk",
        "outputId": "fb452531-d14c-4eae-a79e-2119152ced19"
      },
      "execution_count": 40,
      "outputs": [
        {
          "output_type": "stream",
          "name": "stdout",
          "text": [
            "\n",
            "Matrix:\n",
            " [[9 7 6]\n",
            " [6 4 4]\n",
            " [4 7 3]]\n",
            "\n",
            "Row-wise sum: [22 14 14]\n",
            "Column-wise sum: [19 18 13]\n"
          ]
        }
      ]
    },
    {
      "cell_type": "code",
      "source": [
        "import numpy as np\n",
        "\n",
        "# Original array with NaN\n",
        "A = np.array([[1, np.nan, 3],\n",
        "              [4, 5, np.nan],\n",
        "              [7, 8, 9]], dtype=float)\n",
        "\n",
        "rows, cols = A.shape\n",
        "\n",
        "# Step 1: Compute column mean manually (ignoring NaN)\n",
        "col_mean = np.zeros(cols)\n",
        "for j in range(cols):\n",
        "    total = 0\n",
        "    count = 0\n",
        "    for i in range(rows):\n",
        "        if not np.isnan(A[i,j]):\n",
        "            total += A[i,j]\n",
        "            count += 1\n",
        "    col_mean[j] = total / count\n",
        "\n",
        "# Step 2: Replace NaN values with column mean\n",
        "for i in range(rows):\n",
        "    for j in range(cols):\n",
        "        if np.isnan(A[i,j]):\n",
        "            A[i,j] = col_mean[j]\n",
        "\n",
        "print(\"\\nArray after replacing NaN:\\n\", A)\n"
      ],
      "metadata": {
        "colab": {
          "base_uri": "https://localhost:8080/"
        },
        "id": "s3xNJ7XwRkL0",
        "outputId": "457c032b-33f8-4534-a0dc-b7356375c071"
      },
      "execution_count": 45,
      "outputs": [
        {
          "output_type": "stream",
          "name": "stdout",
          "text": [
            "\n",
            "Array after replacing NaN:\n",
            " [[1.  6.5 3. ]\n",
            " [4.  5.  6. ]\n",
            " [7.  8.  9. ]]\n"
          ]
        }
      ]
    },
    {
      "cell_type": "code",
      "source": [
        "A = np.random.randint(1,10,(2,3))\n",
        "B = np.random.randint(1,10,(2,3))\n",
        "\n",
        "# Vertical merge\n",
        "vertical = np.zeros((A.shape[0]+B.shape[0], A.shape[1]), dtype=int)\n",
        "for i in range(A.shape[0]):\n",
        "    for j in range(A.shape[1]):\n",
        "        vertical[i,j] = A[i,j]\n",
        "for i in range(B.shape[0]):\n",
        "    for j in range(B.shape[1]):\n",
        "        vertical[i + A.shape[0], j] = B[i,j]\n",
        "\n",
        "# Horizontal merge\n",
        "horizontal = np.zeros((A.shape[0], A.shape[1]+B.shape[1]), dtype=int)\n",
        "for i in range(A.shape[0]):\n",
        "    for j in range(A.shape[1]):\n",
        "        horizontal[i,j] = A[i,j]\n",
        "    for j in range(B.shape[1]):\n",
        "        horizontal[i, j + A.shape[1]] = B[i,j]\n",
        "\n",
        "print(\"\\nVertical merge:\\n\", vertical)\n",
        "print(\"\\nHorizontal merge:\\n\", horizontal)\n"
      ],
      "metadata": {
        "colab": {
          "base_uri": "https://localhost:8080/"
        },
        "id": "5W_h5KkDSBd5",
        "outputId": "82bf4f30-413f-4832-941a-5b84667e5483"
      },
      "execution_count": 46,
      "outputs": [
        {
          "output_type": "stream",
          "name": "stdout",
          "text": [
            "\n",
            "Vertical merge:\n",
            " [[4 9 7]\n",
            " [6 1 2]\n",
            " [9 1 4]\n",
            " [7 3 4]]\n",
            "\n",
            "Horizontal merge:\n",
            " [[4 9 7 9 1 4]\n",
            " [6 1 2 7 3 4]]\n"
          ]
        }
      ]
    },
    {
      "cell_type": "code",
      "source": [
        "A = np.random.randint(1,10,(3,3))\n",
        "row_sum = np.zeros(A.shape[0], dtype=int)\n",
        "col_sum = np.zeros(A.shape[1], dtype=int)\n",
        "\n",
        "for i in range(A.shape[0]):\n",
        "    for j in range(A.shape[1]):\n",
        "        row_sum[i] += A[i,j]\n",
        "        col_sum[j] += A[i,j]\n",
        "\n",
        "print(\"\\nMatrix:\\n\", A)\n",
        "print(\"Row-wise sum:\", row_sum)\n",
        "print(\"Column-wise sum:\", col_sum)\n"
      ],
      "metadata": {
        "colab": {
          "base_uri": "https://localhost:8080/"
        },
        "id": "UI4XRZxlSVg2",
        "outputId": "46fac6b7-5bbb-4739-957a-c9e8ffbf88fb"
      },
      "execution_count": 47,
      "outputs": [
        {
          "output_type": "stream",
          "name": "stdout",
          "text": [
            "\n",
            "Matrix:\n",
            " [[9 4 7]\n",
            " [6 4 6]\n",
            " [1 6 5]]\n",
            "Row-wise sum: [20 16 12]\n",
            "Column-wise sum: [16 14 18]\n"
          ]
        }
      ]
    },
    {
      "cell_type": "code",
      "source": [
        "A = np.array([[1, np.nan, 3],\n",
        "              [4, 5, np.nan],\n",
        "              [7, 8, 9]], dtype=float)\n",
        "\n",
        "# Compute column mean ignoring NaN\n",
        "col_mean = np.zeros(A.shape[1])\n",
        "for j in range(A.shape[1]):\n",
        "    total = 0\n",
        "    count = 0\n",
        "    for i in range(A.shape[0]):\n",
        "        if not np.isnan(A[i,j]):\n",
        "            total += A[i,j]\n",
        "            count += 1\n",
        "    col_mean[j] = total / count\n",
        "\n",
        "# Replace NaN with column mean\n",
        "for i in range(A.shape[0]):\n",
        "    for j in range(A.shape[1]):\n",
        "        if np.isnan(A[i,j]):\n",
        "            A[i,j] = col_mean[j]\n",
        "\n",
        "print(\"\\nArray after replacing NaN:\\n\", A)\n"
      ],
      "metadata": {
        "colab": {
          "base_uri": "https://localhost:8080/"
        },
        "id": "e-kQzrWzShNs",
        "outputId": "20fdba3f-0e03-4063-c091-29460a09ceb9"
      },
      "execution_count": 48,
      "outputs": [
        {
          "output_type": "stream",
          "name": "stdout",
          "text": [
            "\n",
            "Array after replacing NaN:\n",
            " [[1.  6.5 3. ]\n",
            " [4.  5.  6. ]\n",
            " [7.  8.  9. ]]\n"
          ]
        }
      ]
    },
    {
      "cell_type": "code",
      "source": [
        "a = np.array([1,2,3])\n",
        "b = np.array([4,5,6])\n",
        "\n",
        "# Compute dot product\n",
        "dot = 0\n",
        "for i in range(len(a)):\n",
        "    dot += a[i]*b[i]\n",
        "\n",
        "# Compute norms\n",
        "norm_a = 0\n",
        "norm_b = 0\n",
        "for i in range(len(a)):\n",
        "    norm_a += a[i]**2\n",
        "    norm_b += b[i]**2\n",
        "norm_a = norm_a**0.5\n",
        "norm_b = norm_b**0.5\n",
        "\n",
        "cos_sim = dot / (norm_a*norm_b)\n",
        "print(\"\\nCosine similarity:\", cos_sim)\n"
      ],
      "metadata": {
        "colab": {
          "base_uri": "https://localhost:8080/"
        },
        "id": "m9Kqjt3fTDxy",
        "outputId": "d5e1b415-63bb-454d-f353-8bc3e73bf05e"
      },
      "execution_count": 49,
      "outputs": [
        {
          "output_type": "stream",
          "name": "stdout",
          "text": [
            "\n",
            "Cosine similarity: 0.9746318461970762\n"
          ]
        }
      ]
    },
    {
      "cell_type": "code",
      "source": [
        "A = np.random.randint(1,10,(4,4))\n",
        "rotated = np.zeros_like(A)\n",
        "\n",
        "n = A.shape[0]\n",
        "for i in range(n):\n",
        "    for j in range(n):\n",
        "        rotated[j, n-1-i] = A[i,j]\n",
        "\n",
        "print(\"\\nOriginal 4x4 Matrix:\\n\", A)\n",
        "print(\"\\nRotated by 90 degrees:\\n\", rotated)\n"
      ],
      "metadata": {
        "colab": {
          "base_uri": "https://localhost:8080/"
        },
        "id": "o4WYK7-ITF7i",
        "outputId": "8ab3ae53-03f2-4f2b-a9e8-14b266c4b017"
      },
      "execution_count": 50,
      "outputs": [
        {
          "output_type": "stream",
          "name": "stdout",
          "text": [
            "\n",
            "Original 4x4 Matrix:\n",
            " [[3 9 4 2]\n",
            " [8 9 9 6]\n",
            " [7 5 1 1]\n",
            " [4 1 8 6]]\n",
            "\n",
            "Rotated by 90 degrees:\n",
            " [[4 7 8 3]\n",
            " [1 5 9 9]\n",
            " [8 1 9 4]\n",
            " [6 1 6 2]]\n"
          ]
        }
      ]
    },
    {
      "cell_type": "code",
      "source": [
        "dtype = [('name', 'U10'), ('age', 'i4'), ('marks', 'f4')]\n",
        "data = np.array([('Alice', 20, 85.5),\n",
        "                 ('Bob', 21, 92.0),\n",
        "                 ('Charlie', 19, 78.0)], dtype=dtype)\n",
        "\n",
        "print(\"\\nStructured array:\\n\", data)\n",
        "\n",
        "# Access fields\n",
        "print(\"Names:\", data['name'])\n",
        "print(\"Ages:\", data['age'])\n",
        "print(\"Marks:\", data['marks'])\n"
      ],
      "metadata": {
        "colab": {
          "base_uri": "https://localhost:8080/"
        },
        "id": "O3SGNeozTH9K",
        "outputId": "a7578d9c-b299-4cb0-c3f2-b3d33d153aab"
      },
      "execution_count": 51,
      "outputs": [
        {
          "output_type": "stream",
          "name": "stdout",
          "text": [
            "\n",
            "Structured array:\n",
            " [('Alice', 20, 85.5) ('Bob', 21, 92. ) ('Charlie', 19, 78. )]\n",
            "Names: ['Alice' 'Bob' 'Charlie']\n",
            "Ages: [20 21 19]\n",
            "Marks: [85.5 92.  78. ]\n"
          ]
        }
      ]
    },
    {
      "cell_type": "code",
      "source": [
        "A = np.random.randint(0,10,(3,3))\n",
        "print(\"\\nMatrix:\\n\", A)\n",
        "\n",
        "# Use NumPy's SVD to compute rank (manual rank calculation is complex)\n",
        "U, S, V = np.linalg.svd(A)\n",
        "rank = 0\n",
        "tol = 1e-10\n",
        "for s in S:\n",
        "    if s > tol:\n",
        "        rank += 1\n",
        "\n",
        "print(\"\\nRank of matrix:\", rank)\n"
      ],
      "metadata": {
        "colab": {
          "base_uri": "https://localhost:8080/"
        },
        "id": "NFoGysCLTJzc",
        "outputId": "a16e860c-e0e9-491b-d0d1-c9ff9261c8a9"
      },
      "execution_count": 52,
      "outputs": [
        {
          "output_type": "stream",
          "name": "stdout",
          "text": [
            "\n",
            "Matrix:\n",
            " [[3 9 1]\n",
            " [6 6 1]\n",
            " [1 9 5]]\n",
            "\n",
            "Rank of matrix: 3\n"
          ]
        }
      ]
    },
    {
      "cell_type": "code",
      "source": [
        "A = np.random.randint(1,10,(5,5)).astype(float)\n",
        "print(\"\\nOriginal Matrix:\\n\", A)\n",
        "\n",
        "row_norm = np.zeros_like(A)\n",
        "for i in range(A.shape[0]):\n",
        "    norm = 0\n",
        "    for j in range(A.shape[1]):\n",
        "        norm += A[i,j]**2\n",
        "    norm = norm**0.5\n",
        "    for j in range(A.shape[1]):\n",
        "        row_norm[i,j] = A[i,j]/norm\n",
        "\n",
        "print(\"\\nRow-normalized matrix:\\n\", row_norm)\n"
      ],
      "metadata": {
        "colab": {
          "base_uri": "https://localhost:8080/"
        },
        "id": "JZSIi2xWTQHf",
        "outputId": "c0b0c1b7-6b48-40d2-b780-7159f4b97921"
      },
      "execution_count": 53,
      "outputs": [
        {
          "output_type": "stream",
          "name": "stdout",
          "text": [
            "\n",
            "Original Matrix:\n",
            " [[9. 3. 1. 8. 7.]\n",
            " [8. 2. 7. 3. 9.]\n",
            " [6. 8. 3. 2. 1.]\n",
            " [3. 7. 9. 4. 1.]\n",
            " [5. 9. 1. 3. 6.]]\n",
            "\n",
            "Row-normalized matrix:\n",
            " [[0.63012604 0.21004201 0.070014   0.56011203 0.49009803]\n",
            " [0.55603844 0.13900961 0.48653363 0.20851441 0.62554324]\n",
            " [0.56195149 0.74926865 0.28097574 0.18731716 0.09365858]\n",
            " [0.24019223 0.56044854 0.72057669 0.32025631 0.08006408]\n",
            " [0.40555355 0.7299964  0.08111071 0.24333213 0.48666426]]\n"
          ]
        }
      ]
    },
    {
      "cell_type": "code",
      "source": [
        "A = np.array([1,2,3])\n",
        "B = np.array([1,0,3])\n",
        "\n",
        "equal = np.ones(len(A), dtype=bool)\n",
        "for i in range(len(A)):\n",
        "    if A[i] != B[i]:\n",
        "        equal[i] = False\n",
        "\n",
        "print(\"\\nElement-wise equality:\", equal)\n"
      ],
      "metadata": {
        "colab": {
          "base_uri": "https://localhost:8080/"
        },
        "id": "AAdunbLGTU3D",
        "outputId": "a95f43c3-98c6-49ec-d8f5-5ca12137dc43"
      },
      "execution_count": 54,
      "outputs": [
        {
          "output_type": "stream",
          "name": "stdout",
          "text": [
            "\n",
            "Element-wise equality: [ True False  True]\n"
          ]
        }
      ]
    },
    {
      "cell_type": "code",
      "source": [
        "import numpy as np\n",
        "import matplotlib.pyplot as plt\n",
        "\n",
        "# Step 1: Generate random data\n",
        "data = np.random.randint(0, 10, 1000)\n",
        "bins = 10\n",
        "\n",
        "# Step 2: Compute histogram manually\n",
        "hist = np.zeros(bins, dtype=int)\n",
        "for val in data:\n",
        "    hist[val] += 1\n",
        "\n",
        "# Step 3: Plot histogram\n",
        "plt.bar(range(bins), hist, color='skyblue', edgecolor='black')\n",
        "plt.xlabel('Value')\n",
        "plt.ylabel('Frequency')\n",
        "plt.title('Histogram of Random Numbers (0-9)')\n",
        "plt.xticks(range(bins))\n",
        "plt.show()\n"
      ],
      "metadata": {
        "colab": {
          "base_uri": "https://localhost:8080/",
          "height": 472
        },
        "id": "Z0kxxTKCTWr9",
        "outputId": "f90aaa77-f687-4aad-b42f-6ed05c485c2d"
      },
      "execution_count": 57,
      "outputs": [
        {
          "output_type": "display_data",
          "data": {
            "text/plain": [
              "<Figure size 640x480 with 1 Axes>"
            ],
            "image/png": "[encoded data removed]"
          },
          "metadata": {}
        }
      ]
    },
    {
      "cell_type": "code",
      "source": [
        "A = np.random.randint(1,5,(3,3))\n",
        "B = np.array([1,2,3])\n",
        "result = np.zeros_like(A)\n",
        "\n",
        "for i in range(A.shape[0]):\n",
        "    for j in range(A.shape[1]):\n",
        "        result[i,j] = A[i,j] + B[j]\n",
        "\n",
        "print(\"\\nOriginal 2D array:\\n\", A)\n",
        "print(\"After adding 1D array:\\n\", result)\n"
      ],
      "metadata": {
        "colab": {
          "base_uri": "https://localhost:8080/"
        },
        "id": "Fy24YVhITtA3",
        "outputId": "ccf11fdc-e536-4208-de3d-0edca38a42cd"
      },
      "execution_count": 58,
      "outputs": [
        {
          "output_type": "stream",
          "name": "stdout",
          "text": [
            "\n",
            "Original 2D array:\n",
            " [[4 3 1]\n",
            " [2 4 1]\n",
            " [3 3 1]]\n",
            "After adding 1D array:\n",
            " [[5 5 4]\n",
            " [3 6 4]\n",
            " [4 5 4]]\n"
          ]
        }
      ]
    },
    {
      "cell_type": "code",
      "source": [
        "arr = np.array([1,2,2,3,3,3,4])\n",
        "unique = []\n",
        "counts = []\n",
        "\n",
        "for val in arr:\n",
        "    if val not in unique:\n",
        "        unique.append(val)\n",
        "        counts.append(np.sum(arr==val))\n",
        "\n",
        "print(\"\\nUnique values:\", unique)\n",
        "print(\"Counts:\", counts)\n"
      ],
      "metadata": {
        "colab": {
          "base_uri": "https://localhost:8080/"
        },
        "id": "j8dETzvnTv0b",
        "outputId": "7e2ae8ec-15a1-494c-ce73-9ac38c4d1376"
      },
      "execution_count": 59,
      "outputs": [
        {
          "output_type": "stream",
          "name": "stdout",
          "text": [
            "\n",
            "Unique values: [np.int64(1), np.int64(2), np.int64(3), np.int64(4)]\n",
            "Counts: [np.int64(1), np.int64(2), np.int64(3), np.int64(1)]\n"
          ]
        }
      ]
    },
    {
      "cell_type": "code",
      "source": [
        "x = np.array([1,2,3,4,5])\n",
        "y = np.array([2,4,5,4,5])\n",
        "\n",
        "n = len(x)\n",
        "mean_x = sum(x)/n\n",
        "mean_y = sum(y)/n\n",
        "\n",
        "num = 0\n",
        "den_x = 0\n",
        "den_y = 0\n",
        "for i in range(n):\n",
        "    num += (x[i]-mean_x)*(y[i]-mean_y)\n",
        "    den_x += (x[i]-mean_x)**2\n",
        "    den_y += (y[i]-mean_y)**2\n",
        "\n",
        "pearson = num / ((den_x**0.5)*(den_y**0.5))\n",
        "print(\"\\nPearson correlation coefficient:\", pearson)\n"
      ],
      "metadata": {
        "colab": {
          "base_uri": "https://localhost:8080/"
        },
        "id": "Ce3W2BbmTxls",
        "outputId": "25f30c92-61c2-4da8-82d6-7a5fe6370ba6"
      },
      "execution_count": 60,
      "outputs": [
        {
          "output_type": "stream",
          "name": "stdout",
          "text": [
            "\n",
            "Pearson correlation coefficient: 0.7745966692414834\n"
          ]
        }
      ]
    },
    {
      "cell_type": "code",
      "source": [
        "arr = np.array([1,2,4,7,11])\n",
        "grad = np.zeros_like(arr, dtype=float)\n",
        "\n",
        "for i in range(len(arr)):\n",
        "    if i == 0:\n",
        "        grad[i] = arr[i+1] - arr[i]\n",
        "    elif i == len(arr)-1:\n",
        "        grad[i] = arr[i] - arr[i-1]\n",
        "    else:\n",
        "        grad[i] = (arr[i+1] - arr[i-1])/2\n",
        "\n",
        "print(\"\\nNumerical gradient:\", grad)\n"
      ],
      "metadata": {
        "colab": {
          "base_uri": "https://localhost:8080/"
        },
        "id": "6XtRTbbeTz8D",
        "outputId": "d98de7c3-db4e-4005-e37e-fb11cd20cd54"
      },
      "execution_count": 61,
      "outputs": [
        {
          "output_type": "stream",
          "name": "stdout",
          "text": [
            "\n",
            "Numerical gradient: [1.  1.5 2.5 3.5 4. ]\n"
          ]
        }
      ]
    },
    {
      "cell_type": "code",
      "source": [
        "A = np.random.randint(1,10,(3,3))\n",
        "print(\"\\nMatrix:\\n\", A)\n",
        "\n",
        "# Using NumPy for SVD (manual SVD derivation is complex)\n",
        "U, S, Vt = np.linalg.svd(A)\n",
        "\n",
        "print(\"\\nU matrix:\\n\", U)\n",
        "print(\"Singular values:\", S)\n",
        "print(\"Vt matrix:\\n\", Vt)\n"
      ],
      "metadata": {
        "colab": {
          "base_uri": "https://localhost:8080/"
        },
        "id": "wGTScUNwT198",
        "outputId": "4aabf323-94bb-498a-d8c6-fd2d86bd72d4"
      },
      "execution_count": 62,
      "outputs": [
        {
          "output_type": "stream",
          "name": "stdout",
          "text": [
            "\n",
            "Matrix:\n",
            " [[4 3 7]\n",
            " [9 9 7]\n",
            " [7 2 5]]\n",
            "\n",
            "U matrix:\n",
            " [[-0.43975622 -0.57366949  0.69102662]\n",
            " [-0.77473169  0.63151779  0.03124252]\n",
            " [-0.45431848 -0.52162112 -0.72215381]]\n",
            "Singular values: [18.50942044  3.66684252  2.63735111]\n",
            "Vt matrix:\n",
            " [[-0.64355551 -0.49707071 -0.58202837]\n",
            " [-0.07155086  0.79616438 -0.60083505]\n",
            " [-0.76204776  0.34502608  0.5479418 ]]\n"
          ]
        }
      ]
    }
  ]
}